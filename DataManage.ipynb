{
 "cells": [
  {
   "cell_type": "markdown",
   "metadata": {},
   "source": [
    "# 3 Data Management"
   ]
  },
  {
   "cell_type": "markdown",
   "metadata": {},
   "source": [
    "## 3.1 Data import"
   ]
  },
  {
   "cell_type": "code",
   "execution_count": 19,
   "metadata": {},
   "outputs": [
    {
     "name": "stdout",
     "output_type": "stream",
     "text": [
      "[['Apple' 2.0 3]\n",
      " ['Pear' 3.0 2]\n",
      " ['Orange' 1.0 4]\n",
      " ['Banana' 3.5 15]\n",
      " ['Melon' 3.2 9]\n",
      " ['Poutry' 2.7 1]\n",
      " ['Beef' 10.0 4]\n",
      " ['Pork' 8.0 3]\n",
      " ['Egg' 5.5 11]]\n"
     ]
    }
   ],
   "source": [
    "#Method using pandas and xlrd\n",
    "from pandas import *\n",
    "csvdata=read_csv('A.csv')\n",
    "csvdata=csvdata.values\n",
    "print(csvdata)\n",
    "\n",
    "import xlrd\n",
    "wb=xlrd.open_workbook('C.xls')\n",
    "shnames=wb.sheet_names()\n",
    "sheet=wb.sheet_by_name(shnames[0])\n",
    "exceldata=[]\n",
    "for i in range(sheet.nrows):\n",
    "    exceldata.append(ssheet.row_values(i))\n",
    "    \n",
    "import openpyxl\n",
    "wb=openpyxl.load_workbook('D.xlsx')\n",
    "shnames=wb.get_sheet_names()\n",
    "ssheet=wb.get_sheet_by_name(shnames[0])\n",
    "rows=sheet.rows\n",
    "exceldata=[row[1].value for row in rows]"
   ]
  },
  {
   "cell_type": "markdown",
   "metadata": {},
   "source": [
    "The commands: read_excel, read_stata are similar in the structure with read_csv."
   ]
  },
  {
   "cell_type": "code",
   "execution_count": 8,
   "metadata": {},
   "outputs": [],
   "source": [
    "#Method without using pandas, cannot deal with non-numeric type\n",
    "from numpy import *\n",
    "from matplotlib.mlab import *\n",
    "txtdata=loadtxt('B.txt',delimiter=',')\n",
    "#Method without using pandas, slightly slower\n",
    "txtdata=genfromtxt('B.txt',delimiter=',')\n",
    "#Method without using pandas, even slower, decide datatype for each column\n",
    "csvdata=csv2rec('A.csv',delimiter=',')\n",
    "\n",
    "#difficult data\n",
    "f=open('B.txt','r')\n",
    "line=f.readline()\n",
    "line=f.readline()\n",
    "a=[]\n",
    "b=[]\n",
    "while line:\n",
    "    t=line.split(',')\n",
    "    a.append(int(t[1]))\n",
    "    b.append(float(t[2]))\n",
    "    line=f.readline()\n",
    "a=array(a)\n",
    "b=array(b)\n",
    "alldata=array([a,b])\n",
    "f.close"
   ]
  },
  {
   "cell_type": "code",
   "execution_count": null,
   "metadata": {},
   "outputs": [],
   "source": [
    "# Matlab\n",
    "import scipy.io as sio\n",
    "matdata=siso.loadmat('E.mat')\n",
    "print(matdata.keys())\n",
    "savedata={'x':x,'y':y}\n",
    "sio.savemat('matlabname',savedata,do_compresssion=T)\n",
    "#New matlab v7.3\n",
    "import tables\n",
    "matfile=tables.openFile('E.mat')\n",
    "print(matfile.root)\n",
    "matdata=atfile.root.fieldname.read()\n",
    "matfile.close()\n",
    "#Save filess\n",
    "savetxt('F.txt',matdata)\n",
    "savetxt('G.csv',matdata,delimiter=',')\n"
   ]
  },
  {
   "cell_type": "code",
   "execution_count": null,
   "metadata": {},
   "outputs": [],
   "source": []
  }
 ],
 "metadata": {
  "kernelspec": {
   "display_name": "Python 3",
   "language": "python",
   "name": "python3"
  },
  "language_info": {
   "codemirror_mode": {
    "name": "ipython",
    "version": 3
   },
   "file_extension": ".py",
   "mimetype": "text/x-python",
   "name": "python",
   "nbconvert_exporter": "python",
   "pygments_lexer": "ipython3",
   "version": "3.6.1"
  }
 },
 "nbformat": 4,
 "nbformat_minor": 2
}
