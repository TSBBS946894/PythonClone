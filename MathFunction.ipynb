{
 "cells": [
  {
   "cell_type": "markdown",
   "metadata": {},
   "source": [
    "# 2 Math and Functions"
   ]
  },
  {
   "cell_type": "markdown",
   "metadata": {},
   "source": [
    "# 2.1 Broadcasting"
   ]
  },
  {
   "cell_type": "code",
   "execution_count": 127,
   "metadata": {},
   "outputs": [
    {
     "name": "stdout",
     "output_type": "stream",
     "text": [
      "x+y= [[2 3 4]\n",
      " [2 3 4]\n",
      " [2 3 4]]\n"
     ]
    }
   ],
   "source": [
    "from numpy import *\n",
    "x=array([1,2,3])\n",
    "y=array([[1],[1],[1]])\n",
    "print(\"x+y=\",x+y)\n",
    "\n",
    "x=array([[1,2,3,4]])\n",
    "y=reshape(x,(4,1))\n",
    "b1=broadcast(x,y) #quicker\n",
    "b2=broadcast_arrays(x,y) "
   ]
  },
  {
   "cell_type": "markdown",
   "metadata": {},
   "source": [
    "# 2.2 Multiplication"
   ]
  },
  {
   "cell_type": "code",
   "execution_count": 20,
   "metadata": {},
   "outputs": [
    {
     "name": "stdout",
     "output_type": "stream",
     "text": [
      "Product= [[ 3  4]\n",
      " [11 16]\n",
      " [19 28]]\n",
      "Product also= [[ 3  4]\n",
      " [11 16]\n",
      " [19 28]]\n"
     ]
    }
   ],
   "source": [
    "from numpy import *\n",
    "x=array([[0,1],[2,3],[4,5]])\n",
    "y=array([[1,2],[3,4]])\n",
    "print(\"Product=\",x@y)  #this method supports broadcasting\n",
    "print('Product also=',x.dot(y))"
   ]
  },
  {
   "cell_type": "markdown",
   "metadata": {},
   "source": [
    "# 2.3 Transpose"
   ]
  },
  {
   "cell_type": "code",
   "execution_count": 25,
   "metadata": {},
   "outputs": [
    {
     "name": "stdout",
     "output_type": "stream",
     "text": [
      "[[1 3]\n",
      " [2 4]]\n"
     ]
    }
   ],
   "source": [
    "from numpy import *\n",
    "x=asmatrix([[1,2],[3,4]])\n",
    "print(x.transpose())"
   ]
  },
  {
   "cell_type": "markdown",
   "metadata": {},
   "source": [
    "## 2.4 Generating"
   ]
  },
  {
   "cell_type": "code",
   "execution_count": 95,
   "metadata": {},
   "outputs": [
    {
     "name": "stdout",
     "output_type": "stream",
     "text": [
      "use ix method to slice= [[3]\n",
      " [6]]\n",
      "all-1 matrix= [[ 1.  1.]\n",
      " [ 1.  1.]\n",
      " [ 1.  1.]]\n",
      "all-0 matrix= [[ 0.  0.]\n",
      " [ 0.  0.]\n",
      " [ 0.  0.]]\n",
      "all-empty matrix= [[ 0.  0.]\n",
      " [ 0.  0.]\n",
      " [ 0.  0.]]\n",
      "diag-1 matrix= [[ 1.  0.  0.]\n",
      " [ 0.  1.  0.]\n",
      " [ 0.  0.  1.]]\n",
      "diag-1 matrix also= [[ 1.  0.  0.]\n",
      " [ 0.  1.  0.]\n",
      " [ 0.  0.  1.]]\n",
      "tile of x= [[0 1 0 1 0 1]\n",
      " [2 3 2 3 2 3]\n",
      " [0 1 0 1 0 1]\n",
      " [2 3 2 3 2 3]]\n"
     ]
    }
   ],
   "source": [
    "from numpy import *\n",
    "x=linspace(0,10,11) #11 points uniformly between 0 and 10\n",
    "x=logspace(0,10,11) #identical to 10**linspace(0,10,11)\n",
    "x=r_[0:1:0.1]\n",
    "x=c_[0:10:15j]\n",
    "\n",
    "x=reshape(arange(9),(3,3))\n",
    "print(\"use ix method to slice=\",x[ix_([1,2],[0])])\n",
    "\n",
    "x=arange(0,1,0.1)\n",
    "y=arange(0,1,0.2)\n",
    "a,b=meshgrid(x,y)\n",
    "a,b=mgrid[0:1:3j,0:2:5j]\n",
    "a,b=ogrid[0:1:3j,0:2:5j]\n",
    "\n",
    "x,y=3,2\n",
    "print('all-1 matrix=',ones((x,y)))\n",
    "print('all-0 matrix=',zeros((x,y)))\n",
    "print('all-empty matrix=',empty((x,y)))\n",
    "print('diag-1 matrix=',eye((x)))\n",
    "print('diag-1 matrix also=',identity((x)))\n",
    "\n",
    "x=array([[0,1],[2,3]])\n",
    "print('tile of x=',tile(x,(2,3)))"
   ]
  },
  {
   "cell_type": "markdown",
   "metadata": {},
   "source": [
    "## 2.5 Math"
   ]
  },
  {
   "cell_type": "code",
   "execution_count": 46,
   "metadata": {},
   "outputs": [
    {
     "name": "stdout",
     "output_type": "stream",
     "text": [
      "sum of all elements= 21\n",
      "sum of rows= [5 7 9]\n",
      "sum of cols= [ 6 15]\n",
      "cumsum of rows [[1 2 3]\n",
      " [5 7 9]]\n"
     ]
    }
   ],
   "source": [
    "#Sum\n",
    "from numpy import *\n",
    "x=array([[1,2,3],[4,5,6]])\n",
    "print('sum of all elements=',sum(x))\n",
    "print('sum of rows=',sum(x,0))\n",
    "print('sum of cols=',sum(x,1))\n",
    "print('cumsum of rows',cumsum(x,0))"
   ]
  },
  {
   "cell_type": "markdown",
   "metadata": {},
   "source": [
    "If there is a nan, use nansum function.  Similarly we have nanmax, nanargmax.  \n",
    "prod and cuprod behave similarly to sum and cumsum.  \n",
    "Other math functions: diff(), exp(), log(), log10(), sqrt(), square(), abs(), sign(), real(), imag(), conj(), unique()."
   ]
  },
  {
   "cell_type": "code",
   "execution_count": 56,
   "metadata": {},
   "outputs": [
    {
     "name": "stdout",
     "output_type": "stream",
     "text": [
      "Whether x element is in y= [False False False False False  True  True  True  True  True]\n",
      "intersection= [5 6 7 8 9]\n",
      "union= [ 0  1  2  3  4  5  6  7  8  9 10 11 12 13 14]\n",
      "setxor= [ 0  1  2  3  4 10 11 12 13 14]\n",
      "setdiff= [0 1 2 3 4]\n"
     ]
    }
   ],
   "source": [
    "from numpy import *\n",
    "\n",
    "#compare whether x elements are in y\n",
    "x=arange(10)\n",
    "y=arange(5,15)\n",
    "print('Whether x element is in y=',in1d(x,y))\n",
    "\n",
    "#intersection of elements in both x and y\n",
    "print('intersection=',intersect1d(x,y))\n",
    "\n",
    "#union of elements in x and y\n",
    "print('union=',union1d(x,y))\n",
    "print('setxor=',setxor1d(x,y))\n",
    "\n",
    "#elements in x but not in y\n",
    "print('setdiff=',setdiff1d(x,y))"
   ]
  },
  {
   "cell_type": "code",
   "execution_count": 71,
   "metadata": {},
   "outputs": [
    {
     "name": "stdout",
     "output_type": "stream",
     "text": [
      "sort by row= [[2 3]\n",
      " [0 1]\n",
      " [4 5]]\n",
      "sort by col= [[1 0]\n",
      " [2 3]\n",
      " [5 4]]\n",
      "sort as flat= [0 1 2 3 4 5]\n"
     ]
    }
   ],
   "source": [
    "#Sort\n",
    "x=array([[2,3],[1,0],[5,4]])\n",
    "print('sort by row=',sort(x))\n",
    "print('sort by col=',sort(x,0))\n",
    "print('sort as flat=',sort(x,axis=None))"
   ]
  },
  {
   "cell_type": "code",
   "execution_count": 79,
   "metadata": {},
   "outputs": [
    {
     "name": "stdout",
     "output_type": "stream",
     "text": [
      "max of all= 5\n",
      "max of row= [5 4]\n",
      "max of col= [3 1 5]\n",
      "max of x and y= [ 2.11273354  0.34378038  0.25819324]\n"
     ]
    }
   ],
   "source": [
    "#Max and Min\n",
    "x=array([[2,3],[1,0],[5,4]])\n",
    "print('max of all=',amax(x))\n",
    "print('max of row=',amax(x,0))\n",
    "print('max of col=',amax(x,1))\n",
    "\n",
    "from numpy.random import *\n",
    "x=randn(3)\n",
    "y=randn(3)\n",
    "print('max of x and y=',maximum(x,y))"
   ]
  },
  {
   "cell_type": "code",
   "execution_count": 103,
   "metadata": {},
   "outputs": [
    {
     "name": "stdout",
     "output_type": "stream",
     "text": [
      "[1 2 3 4]\n",
      "[1 2 3 4]\n",
      "[1 2 3 4]\n"
     ]
    }
   ],
   "source": [
    "#View\n",
    "x=arange(3)\n",
    "x.view(matrix)\n",
    "x=array([[1,2],[3,4]])\n",
    "print(x.ravel())\n",
    "print(x.flatten()) #works like ravel but copies the array\n",
    "print(x.flat[:])# an interator of a matrix"
   ]
  },
  {
   "cell_type": "code",
   "execution_count": 130,
   "metadata": {},
   "outputs": [],
   "source": [
    "# Split\n",
    "x=reshape(arange(20),(4,5))\n",
    "y=vsplit(x,[1,2])\n",
    "y=hsplit(x,[1,3])"
   ]
  },
  {
   "cell_type": "code",
   "execution_count": 134,
   "metadata": {},
   "outputs": [
    {
     "name": "stdout",
     "output_type": "stream",
     "text": [
      "[[ 0  1  4]\n",
      " [ 5  6  9]\n",
      " [10 11 14]\n",
      " [15 16 19]]\n"
     ]
    }
   ],
   "source": [
    "#Delete\n",
    "x=reshape(arange(20),(4,5))\n",
    "y=delete(x,1,0)       #delete row1\n",
    "y=delete(x,[2,3],1)   #delete col2,3"
   ]
  },
  {
   "cell_type": "code",
   "execution_count": 141,
   "metadata": {},
   "outputs": [
    {
     "name": "stdout",
     "output_type": "stream",
     "text": [
      "Left-right conversion= [[2 1]\n",
      " [4 3]]\n",
      "Up-down conversion= [[3 4]\n",
      " [1 2]]\n"
     ]
    }
   ],
   "source": [
    "#Flip\n",
    "x=reshape(arange(1,5),(2,2))\n",
    "print('Left-right conversion=',fliplr(x))\n",
    "print('Up-down conversion=',flipud(x))"
   ]
  },
  {
   "cell_type": "code",
   "execution_count": 143,
   "metadata": {},
   "outputs": [
    {
     "name": "stdout",
     "output_type": "stream",
     "text": [
      "diag= [1 4]\n",
      "triangle-up= [[1 2]\n",
      " [0 4]]\n",
      "triangle-lower= [[1 0]\n",
      " [3 4]]\n",
      "solution is: [[ 0.625]\n",
      " [-1.125]\n",
      " [ 0.875]]\n"
     ]
    }
   ],
   "source": [
    "# Linear Algebra\n",
    "x=reshape(arange(1,5),(2,2))\n",
    "print(\"diag=\",diag(x))\n",
    "print(\"triangle-up=\",triu(x))\n",
    "print(\"triangle-lower=\",tril(x))\n",
    "\n",
    "#solve linear equation\n",
    "from numpy.linalg import solve\n",
    "x=array([[1,2,3],[3,3,4],[1,1,4]])\n",
    "y=array([[1],[2],[3]])\n",
    "print('solution is:',solve(x,y))"
   ]
  },
  {
   "cell_type": "markdown",
   "metadata": {},
   "source": [
    "When the number of columns is smaller than the number of rows, lstsq method will find the least squares solution."
   ]
  },
  {
   "cell_type": "code",
   "execution_count": null,
   "metadata": {},
   "outputs": [],
   "source": []
  }
 ],
 "metadata": {
  "kernelspec": {
   "display_name": "Python 3",
   "language": "python",
   "name": "python3"
  },
  "language_info": {
   "codemirror_mode": {
    "name": "ipython",
    "version": 3
   },
   "file_extension": ".py",
   "mimetype": "text/x-python",
   "name": "python",
   "nbconvert_exporter": "python",
   "pygments_lexer": "ipython3",
   "version": "3.6.1"
  }
 },
 "nbformat": 4,
 "nbformat_minor": 2
}
