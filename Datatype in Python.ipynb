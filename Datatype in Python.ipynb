{
 "cells": [
  {
   "cell_type": "markdown",
   "metadata": {},
   "source": [
    "# 1 Native Data Types"
   ]
  },
  {
   "cell_type": "markdown",
   "metadata": {},
   "source": [
    "## 1.1 Float, complex, integer, boolean, strings"
   ]
  },
  {
   "cell_type": "code",
   "execution_count": 25,
   "metadata": {
    "scrolled": false
   },
   "outputs": [
    {
     "name": "stdout",
     "output_type": "stream",
     "text": [
      "<class 'float'>\n",
      "complex number x= (2+3j)\n",
      "3rd power of 2= 8\n",
      "x= True\n",
      "x= False\n",
      "entire string= apple\n",
      "first char= a\n",
      "char from the 3rd place= ple\n",
      "char before the 3rd place= ap\n",
      "char from the 2nd place and before the 4th place= pp\n",
      "char with a step of 2= ape\n",
      "char at the last 2nd place= e\n"
     ]
    }
   ],
   "source": [
    "# Enter float number\n",
    "x=float(1)\n",
    "print(type(x)) # show data type\n",
    "\n",
    "# complex number\n",
    "x=2+3j\n",
    "x=complex(2,3)\n",
    "print(\"complex number x=\",x)\n",
    "\n",
    "# power index\n",
    "x=2**3\n",
    "print(\"3rd power of 2=\",x)\n",
    "\n",
    "# boolean\n",
    "x=True\n",
    "x=bool(1)\n",
    "print(\"x=\",x)\n",
    "x=bool()\n",
    "print(\"x=\",x)\n",
    "\n",
    "# string\n",
    "x='apple'\n",
    "y=x[:]\n",
    "print(\"entire string=\",y)\n",
    "y=x[0]\n",
    "print(\"first char=\",y)\n",
    "y=x[2:]\n",
    "print(\"char from the 3rd place=\",y)\n",
    "y=x[:2]\n",
    "print(\"char before the 3rd place=\",y)\n",
    "y=x[1:3]\n",
    "print(\"char from the 2nd place and before the 4th place=\",y)\n",
    "y=x[0:5:2]\n",
    "print(\"char with a step of 2=\",y)\n",
    "y=x[-1]\n",
    "print(\"char at the last 2nd place=\",y)"
   ]
  },
  {
   "cell_type": "markdown",
   "metadata": {},
   "source": [
    "## 1.2 Lists"
   ]
  },
  {
   "cell_type": "code",
   "execution_count": 52,
   "metadata": {},
   "outputs": [
    {
     "name": "stdout",
     "output_type": "stream",
     "text": [
      "length of array= 10\n",
      "append a number= [0, 1, 2, 3, 4, 5, 6, 7, 8, 9, 10]\n",
      "append an array= [0, 1, 2, 3, 4, 5, 6, 7, 8, 9, 10, 10, 20, 30]\n",
      "remove an element from an array= [1, 2, 3, 4, 5, 6, 7, 8, 9, 10, 10, 20, 30]\n",
      "remove the 1st occurence of a value from an array= [1, 2, 3, 4, 6, 7, 8, 9, 10, 10, 20, 30]\n",
      "numbers of a value in an array= 2\n",
      "[4, 6, 7, 8, 9, 10, 10, 20, 30]\n"
     ]
    }
   ],
   "source": [
    "x=[0,1,2,3,4,5,6,7,8,9]\n",
    "a=[10,20,30]\n",
    "print(\"length of array=\",len(x))\n",
    "x.append(10)\n",
    "print(\"append a number=\",x)\n",
    "x.extend(a)\n",
    "print(\"append an array=\",x)\n",
    "x.pop(0)\n",
    "print(\"remove an element from an array=\",x)\n",
    "x.remove(5)\n",
    "print(\"remove the 1st occurence of a value from an array=\",x)\n",
    "print(\"numbers of a value in an array=\",x.count(10))\n",
    "del x[:3]\n",
    "print(x)"
   ]
  },
  {
   "cell_type": "markdown",
   "metadata": {},
   "source": [
    "Lists are mutable and changes to copy also affect the original list. Use copy method and slicing to prevent the passing."
   ]
  },
  {
   "cell_type": "code",
   "execution_count": 192,
   "metadata": {},
   "outputs": [
    {
     "name": "stdout",
     "output_type": "stream",
     "text": [
      "x= [4, 2, 3]\n",
      "x_id= 4463830408\n",
      "y_id= 4463830408\n",
      "x_id= 4463830408\n",
      "y_id= 4463831624\n",
      "x_id_element= 4305308256\n",
      "y_id_element= 4305308256\n",
      "x_id= 4463830408\n",
      "y_id= 4463830408\n",
      "z_id= 4464010696\n"
     ]
    }
   ],
   "source": [
    "x=[1,2,3]\n",
    "\n",
    "y=x\n",
    "y[0]=4\n",
    "print(\"x=\",x)\n",
    "print(\"x_id=\",id(x))\n",
    "print(\"y_id=\",id(y))\n",
    "\n",
    "y=x[:]\n",
    "print(\"x_id=\",id(x))\n",
    "print(\"y_id=\",id(y))\n",
    "\n",
    "print(\"x_id_element=\",id(x[0]))\n",
    "print(\"y_id_element=\",id(y[0]))\n",
    "\n",
    "import copy as cp\n",
    "y=x\n",
    "z=cp.deepcopy(x)\n",
    "print(\"x_id=\",id(x))\n",
    "print(\"y_id=\",id(y))\n",
    "print(\"z_id=\",id(z))"
   ]
  },
  {
   "cell_type": "markdown",
   "metadata": {},
   "source": [
    "## 1.3 Tuples "
   ]
  },
  {
   "cell_type": "code",
   "execution_count": 54,
   "metadata": {},
   "outputs": [
    {
     "name": "stdout",
     "output_type": "stream",
     "text": [
      "(0, 1, 2, 3, 4)\n"
     ]
    }
   ],
   "source": [
    "x=(0,1,2,3,4,5,6,7,8,9)\n",
    "print (x[-10:-5])\n",
    "y=list(x)\n",
    "z=tuple(y)"
   ]
  },
  {
   "cell_type": "markdown",
   "metadata": {},
   "source": [
    "## 1.4 Dicitonaries"
   ]
  },
  {
   "cell_type": "markdown",
   "metadata": {},
   "source": [
    "Dictionaries are composed of keys and values.  Keys must be unique and immutable."
   ]
  },
  {
   "cell_type": "code",
   "execution_count": 98,
   "metadata": {},
   "outputs": [
    {
     "name": "stdout",
     "output_type": "stream",
     "text": [
      "{'children': [1, 2], 'fruit': 'apple', 'name': 'abc'}\n",
      "['A', 'B']\n",
      "defaultdict(<class 'list'>, {'B': ['beta']})\n"
     ]
    }
   ],
   "source": [
    "data={'age':34,'children':[1,2],'fruit':'apple'}\n",
    "data['name']='abc'  #add a K-V pair\n",
    "del data['age']     #delete a keyword\n",
    "print(data)\n",
    "\n",
    "from collections import OrderedDict\n",
    "od=OrderedDict()\n",
    "od['A']=1\n",
    "od['B']='alpha'\n",
    "print(list(od.keys()))\n",
    "\n",
    "from collections import defaultdict\n",
    "od=defaultdict(list)\n",
    "od['B'].append('beta')\n",
    "print(od)"
   ]
  },
  {
   "cell_type": "markdown",
   "metadata": {},
   "source": [
    "## 1.5 Sets"
   ]
  },
  {
   "cell_type": "code",
   "execution_count": 80,
   "metadata": {},
   "outputs": [
    {
     "name": "stdout",
     "output_type": "stream",
     "text": [
      "add an element to set= {'a', 'c', 'd', 'e', 'f', 'b'}\n",
      "intersection of two sets= {'a', 'b'}\n",
      "union of two sets= {'a', 'c', 'y', 'e', 'f', 'x', 'b'}\n"
     ]
    }
   ],
   "source": [
    "x=set(['a','b','c','d','e'])\n",
    "y=set(['a','b','x','y'])\n",
    "x.add('f')\n",
    "print(\"add an element to set=\",x)\n",
    "x.remove('d')\n",
    "a=x.intersection(y)\n",
    "print(\"intersection of two sets=\",a)\n",
    "a=x.union(y)\n",
    "print(\"union of two sets=\",a)"
   ]
  },
  {
   "cell_type": "markdown",
   "metadata": {},
   "source": [
    "## 1.6 Ranges"
   ]
  },
  {
   "cell_type": "code",
   "execution_count": 82,
   "metadata": {},
   "outputs": [
    {
     "name": "stdout",
     "output_type": "stream",
     "text": [
      "[3, 4, 5, 6, 7, 8, 9]\n",
      "[3, 6, 9]\n"
     ]
    }
   ],
   "source": [
    "x=range(3,10)\n",
    "print(list(x))\n",
    "x=range(3,10,3)\n",
    "print(list(x))"
   ]
  },
  {
   "cell_type": "markdown",
   "metadata": {},
   "source": [
    "## 1.7 Arrays"
   ]
  },
  {
   "cell_type": "code",
   "execution_count": 199,
   "metadata": {},
   "outputs": [
    {
     "name": "stdout",
     "output_type": "stream",
     "text": [
      "Array_dimension_value= (2, 5)\n",
      "Array_dimension= 2\n",
      "Data Type= float64\n",
      "concatenate in vertical: [[1 2]\n",
      " [3 4]\n",
      " [5 6]\n",
      " [7 8]]\n",
      "concatenate in horizontal: [[1 2 5 6]\n",
      " [3 4 7 8]]\n",
      "concatenate in vertical: [[1 2]\n",
      " [3 4]\n",
      " [5 6]\n",
      " [7 8]]\n",
      "concatenate in horizontal: [[1 2 5 6]\n",
      " [3 4 7 8]]\n",
      "repitious matrix= [[1 1 1]\n",
      " [1 1 1]\n",
      " [1 1 1]]\n",
      "reshape array matrix= [[0 1 2]\n",
      " [3 4 5]\n",
      " [6 7 8]]\n",
      "flat element= 5\n"
     ]
    }
   ],
   "source": [
    "from numpy import *\n",
    "#import numpy\n",
    "x=array([[0.,1,2,3,4],[5,6,7,8,9]])\n",
    "print(\"Array_dimension_value=\",shape(x))\n",
    "print(\"Array_dimension=\",x.ndim)\n",
    "print(\"Data Type=\",x.dtype)\n",
    "x=array([[0.,1,2,3,4],[5,6,7,8,9]],dtype='int32')\n",
    "\n",
    "x=array([[1,2],[3,4]])\n",
    "y=array([[5,6],[7,8]])\n",
    "z=concatenate((x,y),axis=0)\n",
    "print(\"concatenate in vertical:\",z)\n",
    "z=concatenate((x,y),axis=1)\n",
    "print(\"concatenate in horizontal:\",z)\n",
    "z=vstack((x,y))\n",
    "print(\"concatenate in vertical:\",z)\n",
    "z=hstack((x,y))\n",
    "print(\"concatenate in horizontal:\",z)\n",
    "\n",
    "x=array([[1]*3]*3)\n",
    "print(\"repitious matrix=\",x)\n",
    "\n",
    "x=reshape(arange(9),(3,3))\n",
    "print(\"reshape array matrix=\",x)\n",
    "print(\"flat element=\",x.flat[5])"
   ]
  },
  {
   "cell_type": "markdown",
   "metadata": {},
   "source": [
    "Slice of an array will affect the original array. To avoid passing, use the following methods."
   ]
  },
  {
   "cell_type": "code",
   "execution_count": 187,
   "metadata": {},
   "outputs": [],
   "source": [
    "x=reshape(arange(4),(2,2))\n",
    "s1=copy(x[0,:])\n",
    "s2=x[0,:].copy()\n",
    "s3=array(x[0,:])"
   ]
  },
  {
   "cell_type": "markdown",
   "metadata": {},
   "source": [
    "## 1.8 Matrix"
   ]
  },
  {
   "cell_type": "code",
   "execution_count": 194,
   "metadata": {},
   "outputs": [],
   "source": [
    "import numpy as np\n",
    "x=np.asmatrix([1,2,3])\n",
    "y=np.matrix([1,2,3])"
   ]
  }
 ],
 "metadata": {
  "kernelspec": {
   "display_name": "Python 3",
   "language": "python",
   "name": "python3"
  },
  "language_info": {
   "codemirror_mode": {
    "name": "ipython",
    "version": 3
   },
   "file_extension": ".py",
   "mimetype": "text/x-python",
   "name": "python",
   "nbconvert_exporter": "python",
   "pygments_lexer": "ipython3",
   "version": "3.6.1"
  }
 },
 "nbformat": 4,
 "nbformat_minor": 2
}
